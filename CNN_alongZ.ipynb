{
 "cells": [
  {
   "cell_type": "markdown",
   "metadata": {},
   "source": [
    "# Open data      "
   ]
  },
  {
   "cell_type": "code",
   "execution_count": 1,
   "metadata": {},
   "outputs": [],
   "source": [
    "from funciones import abrir , dibujar , reducir\n",
    "import numpy as np\n",
    "#define the vectors to feed our neural networks \n",
    "ve = np.zeros((100,100,10000)) \n",
    "vm = np.zeros((100,100,10000))\n",
    "#this should probably be a function , to automatize this\n",
    "for i in range(0,200):\n",
    "    if i<10:\n",
    "        ve[:,:,i*50:(i+1)*50] = abrir(\"/home/deandres/alongz/relectron_0{}.root\".format(i),(100,100,50)) ### electrons\n",
    "    else:\n",
    "        ve[:,:,i*50:(i+1)*50] = abrir(\"/home/deandres/alongz/relectron_{}.root\".format(i),(100,100,50))\n",
    "for i in range(0,40):\n",
    "    if i<10:\n",
    "        vm[:,:,i*250:(i+1)*250] = abrir(\"/home/deandres/alongz/rmuon_0{}.root\".format(i),(100,100,250)) ### muons\n",
    "    else:\n",
    "        vm[:,:,i*250:(i+1)*250] = abrir(\"/home/deandres/alongz/rmuon_{}.root\".format(i),(100,100,250))\n",
    "# images of size 279x279"
   ]
  },
  {
   "cell_type": "code",
   "execution_count": 2,
   "metadata": {},
   "outputs": [
    {
     "data": {
      "image/png": "[encoded data removed]",
      "text/plain": [
       "<Figure size 360x360 with 1 Axes>"
      ]
     },
     "metadata": {
      "needs_background": "light"
     },
     "output_type": "display_data"
    },
    {
     "data": {
      "image/png": "[encoded data removed]",
      "text/plain": [
       "<Figure size 360x360 with 1 Axes>"
      ]
     },
     "metadata": {
      "needs_background": "light"
     },
     "output_type": "display_data"
    }
   ],
   "source": [
    "evento = 250\n",
    "dibujar(evento,ve)\n",
    "dibujar(evento,vm)\n",
    "#dibujar(i,vm)"
   ]
  },
  {
   "cell_type": "markdown",
   "metadata": {},
   "source": [
    "Our data set is made out of 10k $e^{-}$ and 10k $\\mu^{-}$\n",
    "\n",
    "As you can see in the images there is a small difference between muons and electrons. Muons are typically more. Furthermore, the following encoding is considered:\n",
    "* $e^{-}= 1$\n",
    "* $\\mu^{-}= 0$\n",
    "\n",
    "therefore,"
   ]
  },
  {
   "cell_type": "code",
   "execution_count": 3,
   "metadata": {},
   "outputs": [],
   "source": [
    "# this may be a separated programme\n",
    "\n",
    "ye = np.ones(10000) # labels for electrons\n",
    "ym = np.zeros(10000) # labels for muons\n",
    "X = np.zeros((20000,1,100,100)) # inilizalize the data set X\n",
    "y=np.zeros(20000) # initialize labels \n",
    "X[:10000,0,:,:] = np.swapaxes(ve,0,2) # swapaxes for feeding keras\n",
    "X[10000:,0,:,:] = np.swapaxes(vm,0,2) \n",
    "y[:10000] = ye\n",
    "y[10000:] = ym\n",
    "del ve # delete the variables, to not used un\n",
    "del vm "
   ]
  },
  {
   "cell_type": "markdown",
   "metadata": {},
   "source": [
    "# randomly shuffle the arrays X and y, to the same order"
   ]
  },
  {
   "cell_type": "code",
   "execution_count": 4,
   "metadata": {},
   "outputs": [],
   "source": [
    "#random shuffle program, this may be a separeted programme\n",
    "s=np.arange(X.shape[0])\n",
    "np.random.shuffle(s)\n",
    "X=X[s,:,:,:]\n",
    "y=y[s]"
   ]
  },
  {
   "cell_type": "code",
   "execution_count": 5,
   "metadata": {},
   "outputs": [],
   "source": [
    "#separate our data set from train and test sets\n",
    "separate = 2000\n",
    "X_train , y_train = X[:separate,:,:,:] , y[:separate]\n",
    "X_test , y_test = X[separate:,:,:,:] , y[separate:]"
   ]
  },
  {
   "cell_type": "markdown",
   "metadata": {},
   "source": [
    "# Deep learning"
   ]
  },
  {
   "cell_type": "code",
   "execution_count": 28,
   "metadata": {},
   "outputs": [],
   "source": [
    "import keras\n",
    "from keras.models import Sequential\n",
    "from keras.layers import Conv2D, MaxPooling2D , Dropout , Flatten, Dense"
   ]
  },
  {
   "cell_type": "code",
   "execution_count": 29,
   "metadata": {},
   "outputs": [],
   "source": [
    "# parameters\n",
    "filters=6\n",
    "kernel_size=5\n",
    "pool=2\n",
    "dropout=0.1"
   ]
  },
  {
   "cell_type": "code",
   "execution_count": 44,
   "metadata": {},
   "outputs": [
    {
     "name": "stdout",
     "output_type": "stream",
     "text": [
      "(None, 6, 48, 48)\n",
      "(None, 12, 22, 22)\n",
      "(None, 5808)\n",
      "(None, 1)\n"
     ]
    }
   ],
   "source": [
    "#convolutional block\n",
    "model = keras.models.Sequential()\n",
    "\n",
    "model.add(Conv2D(6, 5,activation='relu',data_format=\"channels_first\",input_shape=(X.shape[1],X.shape[2],X.shape[3])))\n",
    "model.add(MaxPooling2D(pool_size=(2,2),data_format='channels_first'))\n",
    "model.add(Dropout(dropout))\n",
    "print(model.layers[-1].output_shape)\n",
    "\n",
    "model.add(Conv2D(12, 4,activation='relu',data_format=\"channels_first\",input_shape=(X.shape[1],X.shape[2],X.shape[3])))\n",
    "model.add(MaxPooling2D(pool_size=(2,2),data_format='channels_first'))\n",
    "model.add(Dropout(dropout))\n",
    "print(model.layers[-1].output_shape)\n",
    "\n",
    "\n",
    "model.add(Flatten())\n",
    "print(model.layers[-1].output_shape)\n",
    "\n",
    "model.add(Dense(1,activation='sigmoid'))\n",
    "print(model.layers[-1].output_shape)"
   ]
  },
  {
   "cell_type": "code",
   "execution_count": 45,
   "metadata": {},
   "outputs": [],
   "source": [
    "model.compile(loss='binary_crossentropy',optimizer='adam')"
   ]
  },
  {
   "cell_type": "code",
   "execution_count": 46,
   "metadata": {},
   "outputs": [
    {
     "name": "stdout",
     "output_type": "stream",
     "text": [
      "_________________________________________________________________\n",
      "Layer (type)                 Output Shape              Param #   \n",
      "=================================================================\n",
      "conv2d_11 (Conv2D)           (None, 6, 96, 96)         156       \n",
      "_________________________________________________________________\n",
      "max_pooling2d_10 (MaxPooling (None, 6, 48, 48)         0         \n",
      "_________________________________________________________________\n",
      "dropout_10 (Dropout)         (None, 6, 48, 48)         0         \n",
      "_________________________________________________________________\n",
      "conv2d_12 (Conv2D)           (None, 12, 45, 45)        1164      \n",
      "_________________________________________________________________\n",
      "max_pooling2d_11 (MaxPooling (None, 12, 22, 22)        0         \n",
      "_________________________________________________________________\n",
      "dropout_11 (Dropout)         (None, 12, 22, 22)        0         \n",
      "_________________________________________________________________\n",
      "flatten_4 (Flatten)          (None, 5808)              0         \n",
      "_________________________________________________________________\n",
      "dense_4 (Dense)              (None, 1)                 5809      \n",
      "=================================================================\n",
      "Total params: 7,129\n",
      "Trainable params: 7,129\n",
      "Non-trainable params: 0\n",
      "_________________________________________________________________\n"
     ]
    }
   ],
   "source": [
    "model.summary()"
   ]
  },
  {
   "cell_type": "code",
   "execution_count": 47,
   "metadata": {},
   "outputs": [
    {
     "name": "stdout",
     "output_type": "stream",
     "text": [
      "Train on 2000 samples, validate on 18000 samples\n",
      "Epoch 1/10\n",
      "2000/2000 [==============================] - 3s 1ms/step - loss: 0.1400 - val_loss: 0.1869\n",
      "Epoch 2/10\n",
      "2000/2000 [==============================] - 2s 992us/step - loss: 0.0108 - val_loss: 0.0221\n",
      "Epoch 3/10\n",
      "2000/2000 [==============================] - 2s 964us/step - loss: 0.0045 - val_loss: 0.0148\n",
      "Epoch 4/10\n",
      "2000/2000 [==============================] - 2s 985us/step - loss: 5.8491e-04 - val_loss: 0.0069\n",
      "Epoch 5/10\n",
      "2000/2000 [==============================] - 2s 978us/step - loss: 0.0027 - val_loss: 0.0145\n",
      "Epoch 6/10\n",
      "2000/2000 [==============================] - 2s 1ms/step - loss: 0.0027 - val_loss: 0.0045\n",
      "Epoch 7/10\n",
      "2000/2000 [==============================] - 2s 1ms/step - loss: 7.3856e-05 - val_loss: 0.0058\n",
      "Epoch 8/10\n",
      "2000/2000 [==============================] - 2s 968us/step - loss: 6.1730e-05 - val_loss: 0.0043\n",
      "Epoch 9/10\n",
      "2000/2000 [==============================] - 2s 969us/step - loss: 6.9759e-05 - val_loss: 0.0043\n",
      "Epoch 10/10\n",
      "2000/2000 [==============================] - 2s 959us/step - loss: 5.3780e-05 - val_loss: 0.0044\n"
     ]
    }
   ],
   "source": [
    "history = model.fit(X_train,y_train,epochs=10,batch_size=32,validation_data=(X_test,y_test),verbose=1)"
   ]
  },
  {
   "cell_type": "code",
   "execution_count": 48,
   "metadata": {},
   "outputs": [
    {
     "data": {
      "text/plain": [
       "<matplotlib.legend.Legend at 0x7f5dae0eaf98>"
      ]
     },
     "execution_count": 48,
     "metadata": {},
     "output_type": "execute_result"
    },
    {
     "data": {
      "image/png": "[encoded data removed]",
      "text/plain": [
       "<Figure size 432x432 with 1 Axes>"
      ]
     },
     "metadata": {
      "needs_background": "light"
     },
     "output_type": "display_data"
    }
   ],
   "source": [
    "import matplotlib.pyplot as plt\n",
    "fig, ax = plt.subplots(nrows=1,ncols=1,figsize=(6,6))\n",
    "plt.plot(history.history['loss'])\n",
    "plt.plot(history.history['val_loss'])\n",
    "plt.ylabel('loss')\n",
    "plt.xlabel('epoch')\n",
    "plt.legend(['train','test'], loc='upper left')"
   ]
  },
  {
   "cell_type": "markdown",
   "metadata": {},
   "source": [
    "# Confusion matrix"
   ]
  },
  {
   "cell_type": "code",
   "execution_count": 49,
   "metadata": {},
   "outputs": [
    {
     "name": "stdout",
     "output_type": "stream",
     "text": [
      "[[8985    5]\n",
      " [  18 8992]]\n",
      "[[9.99443826e-01 5.56173526e-04]\n",
      " [1.99778024e-03 9.98002220e-01]]\n"
     ]
    },
    {
     "data": {
      "image/png": "[encoded data removed]",
      "text/plain": [
       "<Figure size 432x288 with 1 Axes>"
      ]
     },
     "metadata": {
      "needs_background": "light"
     },
     "output_type": "display_data"
    }
   ],
   "source": [
    "from sklearn.metrics import confusion_matrix\n",
    "\n",
    "y_true = y_test > 0.5\n",
    "y_pred = (model.predict(X_test) > 0.5)[:,0]\n",
    "\n",
    "C=confusion_matrix(y_true,y_pred, labels=[True,False])\n",
    "print(C)\n",
    "##The normalized matrix is computed as\n",
    "C_normalized=C.astype('float') / C.sum(axis=1)[:, np.newaxis]\n",
    "print(C_normalized)\n",
    "classes= ['electron','muon']\n",
    "data=C_normalized\n",
    "fig, ax = plt.subplots()\n",
    "# Using matshow here just because it sets the ticks up nicely. imshow is faster.\n",
    "ax.matshow(data, cmap='Blues')\n",
    "\n",
    "for (i, j), z in np.ndenumerate(data):\n",
    "    ax.text(j, i, '{:0.3f}'.format(z), ha='center', va='center',\n",
    "            bbox=dict(boxstyle='round', facecolor='white', edgecolor='0.3'))\n",
    "x_pos = np.arange(len(classes))\n",
    "plt.xticks(x_pos,classes)\n",
    "y_pos = np.arange(len(classes))\n",
    "plt.yticks(y_pos,classes)\n",
    "title='confusion matrix'\n",
    "plt.show()"
   ]
  },
  {
   "cell_type": "code",
   "execution_count": 50,
   "metadata": {},
   "outputs": [
    {
     "data": {
      "image/png": "[encoded data removed]",
      "text/plain": [
       "<Figure size 432x288 with 1 Axes>"
      ]
     },
     "metadata": {
      "needs_background": "light"
     },
     "output_type": "display_data"
    }
   ],
   "source": [
    "pred = model.predict(X_test)[:,0]\n",
    "e=[]\n",
    "mu=[]\n",
    "i=0\n",
    "\n",
    "for val in y_test:\n",
    "    if val==1:\n",
    "        e.append(pred[i])\n",
    "    else:\n",
    "        mu.append(pred[i])\n",
    "    i=i+1\n",
    "    \n",
    "fig = plt.figure()\n",
    "ax = fig.add_subplot(111)\n",
    "ax.hist(mu, bins=np.arange(0, 1.2, 0.02), ls='dotted', alpha = 0.5, lw=3, color= 'r')\n",
    "ax.hist(e, bins=np.arange(0, 1.2, 0.02), ls='dotted', alpha = 0.5, lw=3, color= 'b')\n",
    "ax.set_xlim(-0.2, 1.2)\n",
    "#ax.set_ylim(0, 150)\n",
    "plt.yscale(\"log\")\n",
    "plt.show()"
   ]
  },
  {
   "cell_type": "code",
   "execution_count": null,
   "metadata": {},
   "outputs": [],
   "source": []
  },
  {
   "cell_type": "code",
   "execution_count": null,
   "metadata": {},
   "outputs": [],
   "source": []
  }
 ],
 "metadata": {
  "kernelspec": {
   "display_name": "Python 3",
   "language": "python",
   "name": "python3"
  },
  "language_info": {
   "codemirror_mode": {
    "name": "ipython",
    "version": 3
   },
   "file_extension": ".py",
   "mimetype": "text/x-python",
   "name": "python",
   "nbconvert_exporter": "python",
   "pygments_lexer": "ipython3",
   "version": "3.5.4"
  }
 },
 "nbformat": 4,
 "nbformat_minor": 2
}
